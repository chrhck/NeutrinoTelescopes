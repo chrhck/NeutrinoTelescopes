{
 "cells": [
  {
   "cell_type": "code",
   "execution_count": 1,
   "metadata": {},
   "outputs": [],
   "source": [
    "using NeutrinoTelescopes\n",
    "using Flux\n",
    "using CUDA\n",
    "using Random\n",
    "using StaticArrays\n",
    "using BSON: @save, @load\n",
    "using BSON\n",
    "using CairoMakie\n",
    "using Rotations\n",
    "using LinearAlgebra\n",
    "using DataFrames\n",
    "using Zygote\n",
    "using PoissonRandom\n",
    "using SpecialFunctions\n",
    "using StatsBase\n",
    "using Base.Iterators\n",
    "using Distributions\n",
    "using Optim\n",
    "using LogExpFunctions\n",
    "using Base.Iterators\n",
    "using Formatting"
   ]
  },
  {
   "cell_type": "code",
   "execution_count": 56,
   "metadata": {},
   "outputs": [
    {
     "ename": "ErrorException",
     "evalue": "syntax: unexpected \",\"",
     "output_type": "error",
     "traceback": [
      "syntax: unexpected \",\"\n",
      "\n",
      "Stacktrace:\n",
      " [1] top-level scope\n",
      "   @ ~/repos/NeutrinoTelescopes/notebooks/surrogate_checks.ipynb:68"
     ]
    }
   ],
   "source": [
    "mutable struct ModelParam{T<:Number, LB<:Number, UB <:Number}\n",
    "    name::String\n",
    "    value::T\n",
    "    active::Bool\n",
    "    bounds::Tuple{LB, UB}\n",
    "end\n",
    "\n",
    "mutable struct Model\n",
    "    params::Vector{ModelParam}\n",
    "end\n",
    "\n",
    "params(m::Model) = m.params\n",
    "free_params(m::Model) = [p for p in params(m) if p.active]\n",
    "get_lower_bounds(m::Model) = [p.bounds[1] for p in free_params(m)]\n",
    "get_upper_bounds(m::Model) = [p.bounds[2] for p in free_params(m)]\n",
    "get_seeds(m::Model) = [p.value for p in free_params(m)]\n",
    "\n",
    "function get_param(m::Model, name::String)\n",
    "    fp = nothing\n",
    "    for p in params(m)\n",
    "        if p.name == name\n",
    "            fp = p\n",
    "        end\n",
    "    end\n",
    "\n",
    "    if isnothing(fp)\n",
    "        error(\"Parameter $name not found in model\")\n",
    "    end\n",
    "\n",
    "    return fp\n",
    "end\n",
    "\n",
    "function set_inactive!(m::Model, name::String)\n",
    "    p = get_param(m, name)\n",
    "    p.active = false\n",
    "end\n",
    "\n",
    "function set_active!(m::Model, name::String)\n",
    "    p = get_param(m, name)\n",
    "    p.active = true\n",
    "end\n",
    "\n",
    "function parse_model_params(x, model)\n",
    "\n",
    "    @assert length(x) == length(free_params(model))\n",
    "    \n",
    "    fix = 1\n",
    "    mparams = params(model)\n",
    "\n",
    "    parsed = []\n",
    "    for par in mparams\n",
    "        if mparams[fix].active\n",
    "            val = x[fix]\n",
    "            fix +=1\n",
    "        else\n",
    "            val = par.value\n",
    "        end\n",
    "\n",
    "        push!(parsed, val)\n",
    "    end\n",
    "    return parsed\n",
    "end\n",
    "\n",
    "function make_cascade_fit_model(;seed_log_energy=3., seed_zenith=0.5, seed_azimuth=0.5, seed_x=0., seed_y=0., seed_z=0., seed_time=0.)\n",
    "    logenergy = ModelParam(\"logenergy\", seed_log_energy, true, (2., 5.))\n",
    "    zenith = ModelParam(\"zenith\", seed_zenith, true, (0., π))\n",
    "    \n",
    "    azimuth = ModelParam(\"azimuth\", seed_azimuth, true, (seed_azimuth-π., seed_azimuth+π))\n",
    "    #azimuth = ModelParam(\"azimuth\", seed_azimuth, true, (0., 2*π))\n",
    "    pos_x = ModelParam(\"pos_x\", seed_x, true, (-100., 100.))\n",
    "    pos_y = ModelParam(\"pos_y\", seed_y, true, (-100., 100.))\n",
    "    pos_z = ModelParam(\"pos_z\", seed_z, true, (-100., 100.))\n",
    "    time = ModelParam(\"time\", seed_time, true, (-50., 100.))\n",
    "    return Model([logenergy, zenith, azimuth, pos_x, pos_y, pos_z, time])\n",
    "end\n"
   ]
  },
  {
   "cell_type": "code",
   "execution_count": 57,
   "metadata": {},
   "outputs": [
    {
     "data": {
      "text/plain": [
       "compare_mc_model (generic function with 2 methods)"
      ]
     },
     "metadata": {},
     "output_type": "display_data"
    }
   ],
   "source": [
    "function min_lh(fit_model, samples, targets, model, tf_vec)\n",
    "\n",
    "    function _func(x)\n",
    "        logenergy, theta, phi, pos_x, pos_y, pos_z, time = parse_model_params(x, fit_model)\n",
    "        fval =  -single_cascade_likelihood(logenergy, theta, phi, SA[pos_x, pos_y, pos_z], time; samples=samples, targets=targets, model=model, tf_vec=tf_vec)\n",
    "        return fval\n",
    "    end\n",
    "\n",
    "    \n",
    "    lower = get_lower_bounds(fit_model)\n",
    "    upper = get_upper_bounds(fit_model)\n",
    "    seeds = get_seeds(fit_model)\n",
    "\n",
    "    inner_optimizer = ConjugateGradient()\n",
    "    results  = optimize(_func, lower, upper, seeds, Fminbox(inner_optimizer); autodiff=:forward)\n",
    "    \n",
    "    #results  = optimize(_func, lower, upper, seeds, SAMIN(rt=0.5), Optim.Options(iterations=10^6))\n",
    "    \n",
    "    \n",
    "    return results\n",
    "end\n",
    "\n",
    "function calc_resolution_maxlh(targets, sampling_model, eval_model, n; energy=1E4, zenith=0.1, phi=0.1, position=SA[3., 10., 15.], time=0.)\n",
    "    \n",
    "    rng = MersenneTwister(31338)\n",
    "    hypo = make_cascade_fit_model(seed_x=position[1], seed_y=position[2], seed_z=position[3], seed_time=time)\n",
    "    set_inactive!(hypo, \"pos_x\")\n",
    "    set_inactive!(hypo, \"pos_y\")\n",
    "    set_inactive!(hypo, \"pos_z\")\n",
    "    set_inactive!(hypo, \"time\")\n",
    "    min_vals = []\n",
    "    for _ in 1:n\n",
    "        samples = sample_cascade_event(energy, zenith, phi, position, time; targets=targets, model=sampling_model[:model], tf_vec=sampling_model[:tf_dict], rng=rng)\n",
    "        res = min_lh(hypo, samples, targets, eval_model[:model], eval_model[:tf_dict])    \n",
    "        push!(min_vals, Optim.minimizer(res))\n",
    "    end\n",
    "    min_vals = reduce(hcat, min_vals)\n",
    "\n",
    "    return min_vals\n",
    "end\n",
    "\n",
    "calc_resolution_maxlh(targets, model, n) = calc_resolution_maxlh(targets, model, model, n)\n",
    "\n",
    "\n",
    "\n",
    "function mc_expectation(particles::AbstractVector{<:Particle}, targets::AbstractVector{<:MultiPMTDetector}, seed)\n",
    "    \n",
    "    wl_range = (300.0f0, 800.0f0)\n",
    "    medium = make_cascadia_medium_properties(0.99f0)\n",
    "    spectrum = CherenkovSpectrum(wl_range, 30, medium)\n",
    "\n",
    "    sources = [ExtendedCherenkovEmitter(convert(Particle{Float32}, p), medium, wl_range) for p in particles]\n",
    "\n",
    "    targets_c::Vector{MultiPMTDetector{Float32}} = targets\n",
    "\n",
    "    photon_setup = PhotonPropSetup(sources, targets_c, medium, spectrum, seed)\n",
    "    photons = propagate_photons(photon_setup)\n",
    "\n",
    "    calc_total_weight!(photons, photon_setup)\n",
    "    calc_time_residual!(photons, photon_setup)\n",
    "\n",
    "    rot = RotMatrix3(I)\n",
    "    hits = make_hits_from_photons(photons, photon_setup, rot)\n",
    "    return hits\n",
    "end\n",
    "\n",
    "\n",
    "function compare_mc_model(\n",
    "    particles::AbstractVector{<:Particle},\n",
    "    targets::AbstractVector{<:PhotonTarget},\n",
    "    models::Dict,\n",
    "    hits)\n",
    "    \n",
    "    times = -10:1:100\n",
    "    fig = Figure(resolution=(1000, 700))\n",
    "    ga = fig[1, 1] = GridLayout(4, 4)\n",
    "\n",
    "    for i in 1:16\n",
    "        row, col = divrem(i - 1, 4)\n",
    "        mask = hits[:, :pmt_id] .== i\n",
    "        ax = Axis(ga[col+1, row+1], xlabel=\"Time Residual(ns)\", ylabel=\"Photons / time\", title=\"PMT $i\")\n",
    "        hist!(ax, hits[mask, :tres], bins=-10:5:100, weights=hits[mask, :total_weight], color=:orange, normalization=:density)\n",
    "    end\n",
    "\n",
    "    for (mname, model_path) in models\n",
    "        @load model_path model hparams opt tf_dict\n",
    "        input = calc_flow_input(particles, targets, tf_dict)\n",
    "        log_pdf, log_expec = model(repeat(times, size(input, 2)), repeat(input, inner=(1, length(times))), true)\n",
    "        log_pdf = reshape(log_pdf, length(times), size(input, 2),)\n",
    "        log_expec = reshape(log_expec, length(times), size(input, 2),)\n",
    "    \n",
    "        for i in 1:16\n",
    "            row, col = divrem(i - 1, 4)\n",
    "            lines!(ga[col+1, row+1], times, exp.(log_pdf[:, i] + log_expec[:, i]), label=mname)\n",
    "        end\n",
    "    end\n",
    "\n",
    "    fig\n",
    "end\n",
    "\n",
    "compare_mc_model(particles, targets, models) =  compare_mc_model(particles, targets, models, mc_expectation(particles, targets))"
   ]
  },
  {
   "cell_type": "code",
   "execution_count": 4,
   "metadata": {},
   "outputs": [
    {
     "data": {
      "text/plain": [
       "20-element Vector{MultiPMTDetector{Float64, 16, 32}}:\n",
       " MultiPMTDetector{Float64, 16, 32}([0.0, 0.0, 0.0], 0.21, 0.004417864669110647, [1.9605149980656156 1.1810776555241778 … 1.1810776555241778 1.9605149980656154; 0.4232502807774416 0.42325028077744165 … -2.718342372812352 -2.7183423728123515], 0x0002)\n",
       " MultiPMTDetector{Float64, 16, 32}([0.0, 0.0, -50.0], 0.21, 0.004417864669110647, [1.9605149980656156 1.1810776555241778 … 1.1810776555241778 1.9605149980656154; 0.4232502807774416 0.42325028077744165 … -2.718342372812352 -2.7183423728123515], 0x0003)\n",
       " MultiPMTDetector{Float64, 16, 32}([0.0, 0.0, -100.0], 0.21, 0.004417864669110647, [1.9605149980656156 1.1810776555241778 … 1.1810776555241778 1.9605149980656154; 0.4232502807774416 0.42325028077744165 … -2.718342372812352 -2.7183423728123515], 0x0004)\n",
       " MultiPMTDetector{Float64, 16, 32}([0.0, 0.0, -150.0], 0.21, 0.004417864669110647, [1.9605149980656156 1.1810776555241778 … 1.1810776555241778 1.9605149980656154; 0.4232502807774416 0.42325028077744165 … -2.718342372812352 -2.7183423728123515], 0x0005)\n",
       " MultiPMTDetector{Float64, 16, 32}([0.0, 0.0, -200.0], 0.21, 0.004417864669110647, [1.9605149980656156 1.1810776555241778 … 1.1810776555241778 1.9605149980656154; 0.4232502807774416 0.42325028077744165 … -2.718342372812352 -2.7183423728123515], 0x0006)\n",
       " MultiPMTDetector{Float64, 16, 32}([0.0, 0.0, -250.0], 0.21, 0.004417864669110647, [1.9605149980656156 1.1810776555241778 … 1.1810776555241778 1.9605149980656154; 0.4232502807774416 0.42325028077744165 … -2.718342372812352 -2.7183423728123515], 0x0007)\n",
       " MultiPMTDetector{Float64, 16, 32}([0.0, 0.0, -300.0], 0.21, 0.004417864669110647, [1.9605149980656156 1.1810776555241778 … 1.1810776555241778 1.9605149980656154; 0.4232502807774416 0.42325028077744165 … -2.718342372812352 -2.7183423728123515], 0x0008)\n",
       " MultiPMTDetector{Float64, 16, 32}([0.0, 0.0, -350.0], 0.21, 0.004417864669110647, [1.9605149980656156 1.1810776555241778 … 1.1810776555241778 1.9605149980656154; 0.4232502807774416 0.42325028077744165 … -2.718342372812352 -2.7183423728123515], 0x0009)\n",
       " MultiPMTDetector{Float64, 16, 32}([0.0, 0.0, -400.0], 0.21, 0.004417864669110647, [1.9605149980656156 1.1810776555241778 … 1.1810776555241778 1.9605149980656154; 0.4232502807774416 0.42325028077744165 … -2.718342372812352 -2.7183423728123515], 0x000a)\n",
       " MultiPMTDetector{Float64, 16, 32}([0.0, 0.0, -450.0], 0.21, 0.004417864669110647, [1.9605149980656156 1.1810776555241778 … 1.1810776555241778 1.9605149980656154; 0.4232502807774416 0.42325028077744165 … -2.718342372812352 -2.7183423728123515], 0x000b)\n",
       " MultiPMTDetector{Float64, 16, 32}([0.0, 0.0, -500.0], 0.21, 0.004417864669110647, [1.9605149980656156 1.1810776555241778 … 1.1810776555241778 1.9605149980656154; 0.4232502807774416 0.42325028077744165 … -2.718342372812352 -2.7183423728123515], 0x000c)\n",
       " MultiPMTDetector{Float64, 16, 32}([0.0, 0.0, -550.0], 0.21, 0.004417864669110647, [1.9605149980656156 1.1810776555241778 … 1.1810776555241778 1.9605149980656154; 0.4232502807774416 0.42325028077744165 … -2.718342372812352 -2.7183423728123515], 0x000d)\n",
       " MultiPMTDetector{Float64, 16, 32}([0.0, 0.0, -600.0], 0.21, 0.004417864669110647, [1.9605149980656156 1.1810776555241778 … 1.1810776555241778 1.9605149980656154; 0.4232502807774416 0.42325028077744165 … -2.718342372812352 -2.7183423728123515], 0x000e)\n",
       " MultiPMTDetector{Float64, 16, 32}([0.0, 0.0, -650.0], 0.21, 0.004417864669110647, [1.9605149980656156 1.1810776555241778 … 1.1810776555241778 1.9605149980656154; 0.4232502807774416 0.42325028077744165 … -2.718342372812352 -2.7183423728123515], 0x000f)\n",
       " MultiPMTDetector{Float64, 16, 32}([0.0, 0.0, -700.0], 0.21, 0.004417864669110647, [1.9605149980656156 1.1810776555241778 … 1.1810776555241778 1.9605149980656154; 0.4232502807774416 0.42325028077744165 … -2.718342372812352 -2.7183423728123515], 0x0010)\n",
       " MultiPMTDetector{Float64, 16, 32}([0.0, 0.0, -750.0], 0.21, 0.004417864669110647, [1.9605149980656156 1.1810776555241778 … 1.1810776555241778 1.9605149980656154; 0.4232502807774416 0.42325028077744165 … -2.718342372812352 -2.7183423728123515], 0x0011)\n",
       " MultiPMTDetector{Float64, 16, 32}([0.0, 0.0, -800.0], 0.21, 0.004417864669110647, [1.9605149980656156 1.1810776555241778 … 1.1810776555241778 1.9605149980656154; 0.4232502807774416 0.42325028077744165 … -2.718342372812352 -2.7183423728123515], 0x0012)\n",
       " MultiPMTDetector{Float64, 16, 32}([0.0, 0.0, -850.0], 0.21, 0.004417864669110647, [1.9605149980656156 1.1810776555241778 … 1.1810776555241778 1.9605149980656154; 0.4232502807774416 0.42325028077744165 … -2.718342372812352 -2.7183423728123515], 0x0013)\n",
       " MultiPMTDetector{Float64, 16, 32}([0.0, 0.0, -900.0], 0.21, 0.004417864669110647, [1.9605149980656156 1.1810776555241778 … 1.1810776555241778 1.9605149980656154; 0.4232502807774416 0.42325028077744165 … -2.718342372812352 -2.7183423728123515], 0x0014)\n",
       " MultiPMTDetector{Float64, 16, 32}([0.0, 0.0, -950.0], 0.21, 0.004417864669110647, [1.9605149980656156 1.1810776555241778 … 1.1810776555241778 1.9605149980656154; 0.4232502807774416 0.42325028077744165 … -2.718342372812352 -2.7183423728123515], 0x0015)"
      ]
     },
     "metadata": {},
     "output_type": "display_data"
    }
   ],
   "source": [
    "models = Dict(\n",
    "    \"1\" => joinpath(@__DIR__, \"../assets/rq_spline_model_l2_0_1_FNL.bson\"),\n",
    "    \"2\" => joinpath(@__DIR__, \"../assets/rq_spline_model_l2_0_2_FNL.bson\"),\n",
    "    \"3\" => joinpath(@__DIR__, \"../assets/rq_spline_model_l2_0_3_FNL.bson\"),\n",
    "    \"4\" => joinpath(@__DIR__, \"../assets/rq_spline_model_l2_0_4_FNL.bson\"),\n",
    "    \"5\" => joinpath(@__DIR__, \"../assets/rq_spline_model_l2_0_5_FNL.bson\"),\n",
    "    \"FULL\" => joinpath(@__DIR__, \"../assets/rq_spline_model_l2_0_FULL_FNL.bson\")\n",
    ")\n",
    "    \n",
    "\n",
    "\n",
    "target = make_pone_module(@SVector[0.0, 0.0, 0.0], 1)\n",
    "targets = make_detector_line(@SVector[0.0, 0.0, 0.0], 20, 50)\n",
    "#targets = make_hex_detector(3, 50, 20, 50, truncate=1)\n"
   ]
  },
  {
   "cell_type": "code",
   "execution_count": 59,
   "metadata": {},
   "outputs": [
    {
     "name": "stdout",
     "output_type": "stream",
     "text": [
      "minvals = [4.581850312789539, 0.6943792240380172, 0.5441607389901466, -9.48140182913068, 3.4741244650761725, 9.899185769765895, 0.767932931809429]\n"
     ]
    },
    {
     "ename": "UndefVarError",
     "evalue": "UndefVarError: azi not defined",
     "output_type": "error",
     "traceback": [
      "UndefVarError: azi not defined\n",
      "\n",
      "Stacktrace:\n",
      " [1] top-level scope\n",
      "   @ ~/repos/NeutrinoTelescopes/notebooks/surrogate_checks.ipynb:37"
     ]
    }
   ],
   "source": [
    "@load models[\"4\"] model hparams opt tf_dict\n",
    "pos = SA[-10., 5., 10.]\n",
    "theta = 0.5\n",
    "phi = 0.1\n",
    "targets_range = [t for t in targets if norm(t.position .- pos) < 200]\n",
    "\n",
    "\n",
    "samples = sample_cascade_event(5E4, theta, phi, pos, 0.; targets=targets_range, model=model, tf_vec=tf_dict, rng=Random.GLOBAL_RNG)\n",
    "hypo = make_cascade_fit_model(seed_x=pos[1], seed_y=pos[2], seed_z=pos[3], seed_time=0.)\n",
    "res = min_lh(hypo, samples, targets_range, model, tf_dict)\n",
    "minvals = Optim.minimizer(res)\n",
    "@show minvals\n",
    "\n",
    "les = 4:0.01:5.5\n",
    "zens = 0.4:0.01:0.6\n",
    "azis = 0:0.01:0.2\n",
    "\n",
    "fig = Figure(resolution=(1500, 500))\n",
    "ax1 = Axis(fig[1, 1])\n",
    "llhs = [single_cascade_likelihood(le, theta, phi, pos, 0.; samples=samples, targets=targets_range, model=model, tf_vec=tf_dict) for le in les]\n",
    "lines!(ax1, les, llhs)\n",
    "vlines!(ax1, [log10(5E4), minvals[1]], color=[:red, :black])\n",
    "\n",
    "\n",
    "ax2 = Axis(fig[1, 2])\n",
    "llhs = [single_cascade_likelihood(log10(5E4), zen, phi, pos, 0.; samples=samples, targets=targets_range, model=model, tf_vec=tf_dict) for zen in zens]\n",
    "lines!(ax2, zens, llhs)\n",
    "vlines!(ax2, [theta, minvals[2]], color=[:red, :black])\n",
    "\n",
    "ax3 = Axis(fig[1, 3])\n",
    "llhs = [single_cascade_likelihood(log10(5E4), theta, azi, pos, 0.; samples=samples, targets=targets_range, model=model, tf_vec=tf_dict) for azi in azis]\n",
    "lines!(ax3, azis, llhs)\n",
    "vlines!(ax3, [phi, minvals[3]], color=[:red, :black])\n",
    "\n",
    "\n",
    "\n",
    "\n",
    "\n",
    "\n",
    "\n",
    "fig"
   ]
  },
  {
   "cell_type": "code",
   "execution_count": 65,
   "metadata": {},
   "outputs": [],
   "source": [
    "zens = 0.3:0.005:0.7\n",
    "azis = -0.2:0.005:0.2\n",
    "\n",
    "llh2d = single_cascade_likelihood.(log10(5E4), zens, permutedims(azis), Ref(pos), 0.; samples=samples, targets=targets_range, model=model, tf_vec=tf_dict)\n",
    "heatmap(zens, azis, llh2d)"
   ]
  },
  {
   "cell_type": "code",
   "execution_count": 30,
   "metadata": {},
   "outputs": [
    {
     "data": {
      "text/plain": [
       "3-element Vector{Float64}:\n",
       " 4.866440024474234\n",
       " 0.06436749890309053\n",
       " 1.3574762524214475e-5"
      ]
     },
     "metadata": {},
     "output_type": "display_data"
    }
   ],
   "source": [
    "\n",
    "\n",
    "Flux.testmode!(model)\n",
    "\n",
    "pos = SA[-10., 5., 10.]\n",
    "targets_range = [t for t in targets if norm(t.position .- pos) < 200]\n",
    "targets_range = [target]\n",
    "\n",
    "samples = sample_cascade_event(5E4, 0.2, 0.1, pos, 0.; targets=targets_range, model=model, tf_vec=tf_dict, rng=Random.GLOBAL_RNG)\n",
    "hypo = make_cascade_fit_model(seed_x=-10., seed_y=10., seed_z=10., seed_time=0.)\n",
    "\n",
    "\n",
    "\n",
    "res = min_lh(hypo, samples, targets_range, model, tf_dict)\n",
    "minvals = Optim.minimizer(res)\n",
    "\n"
   ]
  },
  {
   "cell_type": "code",
   "execution_count": 46,
   "metadata": {},
   "outputs": [],
   "source": [
    "targets_range = [t for t in targets if norm(t.position .- pos) < 200]\n",
    "model_res = Dict()\n",
    "for (mname, model_path) in models\n",
    "    m = BSON.load(model_path)\n",
    "    Flux.testmode!(m[:model])\n",
    "    res = calc_resolution_maxlh(targets_range, m, 200)\n",
    "    model_res[mname] = res\n",
    "end"
   ]
  },
  {
   "cell_type": "code",
   "execution_count": 48,
   "metadata": {},
   "outputs": [
    {
     "data": {
      "image/png": "[encoded data removed]"
     },
     "metadata": {},
     "output_type": "display_data"
    }
   ],
   "source": [
    "fig = Figure()\n",
    "ax = Axis(fig[1, 1])\n",
    "\n",
    "bins = 0:1:60\n",
    "\n",
    "for (k, v) in model_res\n",
    "\n",
    "    hist!(ax, rad2deg.(acos.(dot.(sph_to_cart.(v[2, :], v[3, :]), Ref(sph_to_cart(0.1, 0.1))))),\n",
    "    label=k, bins=bins)\n",
    "\n",
    "end\n",
    "fig"
   ]
  },
  {
   "cell_type": "code",
   "execution_count": null,
   "metadata": {},
   "outputs": [],
   "source": []
  }
 ],
 "metadata": {
  "kernelspec": {
   "display_name": "Julia 1.8.3",
   "language": "julia",
   "name": "julia-1.8"
  },
  "language_info": {
   "file_extension": ".jl",
   "mimetype": "application/julia",
   "name": "julia",
   "version": "1.8.3"
  },
  "orig_nbformat": 4,
  "vscode": {
   "interpreter": {
    "hash": "916dbcbb3f70747c44a77c7bcd40155683ae19c65e1c03b4aa3499c5328201f1"
   }
  }
 },
 "nbformat": 4,
 "nbformat_minor": 2
}
